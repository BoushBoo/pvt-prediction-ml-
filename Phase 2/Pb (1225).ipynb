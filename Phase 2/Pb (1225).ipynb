{
 "cells": [
  {
   "cell_type": "code",
   "execution_count": 33,
   "id": "02555499-1fd6-470a-9213-8b64c051f34e",
   "metadata": {},
   "outputs": [],
   "source": [
    "import os\n",
    "import time\n",
    "import numpy as np\n",
    "import pandas as pd\n",
    "from tqdm import tqdm\n",
    "import matplotlib.pyplot as plt\n",
    "from sklearn.model_selection import train_test_split, KFold, cross_val_score, RandomizedSearchCV\n",
    "from sklearn.preprocessing import StandardScaler\n",
    "from sklearn.pipeline import Pipeline\n",
    "from catboost import Pool\n",
    "from sklearn.metrics import (\n",
    "    root_mean_squared_error,\n",
    "    mean_absolute_error,\n",
    "    mean_absolute_percentage_error,\n",
    "    median_absolute_error,\n",
    "    r2_score,\n",
    "    explained_variance_score)\n",
    "\n",
    "# Models\n",
    "from sklearn.linear_model import Ridge\n",
    "from sklearn.ensemble import RandomForestRegressor, StackingRegressor\n",
    "from xgboost import XGBRegressor\n",
    "from catboost import CatBoostRegressor\n",
    "from tensorflow.keras.models import Sequential\n",
    "from tensorflow.keras.layers import Dense\n",
    "from tensorflow.keras.layers import Input\n",
    "from scikeras.wrappers import KerasRegressor"
   ]
  },
  {
   "cell_type": "code",
   "execution_count": 35,
   "id": "8e861d56-15fe-479e-a8de-c04b8816f38a",
   "metadata": {},
   "outputs": [
    {
     "name": "stdout",
     "output_type": "stream",
     "text": [
      "['Tf', 'Rs', 'gg', 'api ', 'Pb', 'Bob']\n"
     ]
    }
   ],
   "source": [
    "df = pd.read_csv(\"../Dataset/PVT_1225.csv\")\n",
    "df = df.sample(frac=1, random_state=42).reset_index(drop=True)  # 🔀 Shuffle rows\n",
    "\n",
    "# Preview columns\n",
    "print(df.columns.tolist())\n",
    "\n",
    "# Define features and target\n",
    "X = df.drop(columns=[\"Pb\", \"Bob\"])\n",
    "y = df[\"Pb\"]"
   ]
  },
  {
   "cell_type": "code",
   "execution_count": 37,
   "id": "5074b5d5-bd3b-4542-9fac-9858143713c3",
   "metadata": {},
   "outputs": [
    {
     "name": "stdout",
     "output_type": "stream",
     "text": [
      "Training samples: 857\n",
      "Testing samples: 368\n"
     ]
    }
   ],
   "source": [
    "X_train, X_test, y_train, y_test = train_test_split(X, y, test_size=0.3, random_state=42)\n",
    "\n",
    "print(f\"Training samples: {len(X_train)}\")\n",
    "print(f\"Testing samples: {len(X_test)}\")"
   ]
  },
  {
   "cell_type": "markdown",
   "id": "991a3559-776e-4ed2-9ef8-3c1c281b34bf",
   "metadata": {},
   "source": [
    "# XGBoost"
   ]
  },
  {
   "cell_type": "code",
   "execution_count": 43,
   "id": "6e4d1ca1-6475-4576-ad48-efeab8e21ae5",
   "metadata": {},
   "outputs": [
    {
     "name": "stderr",
     "output_type": "stream",
     "text": [
      "Tuning XGBoost: 100%|███████████████████████████| 18/18 [00:01<00:00, 17.35it/s]"
     ]
    },
    {
     "name": "stdout",
     "output_type": "stream",
     "text": [
      "\n",
      "Best XGBoost Params: {'n_estimators': 200, 'learning_rate': 0.1, 'max_depth': 4}, Best Score: -236.4660, Best MSE: 108293.4906, Best RMSE: 329.0798, Best MAE: 178.8929, Best R²: 0.9261, Best Adjusted R²: 0.9253, XGBoost Training Time: 0.0324s\n"
     ]
    },
    {
     "name": "stderr",
     "output_type": "stream",
     "text": [
      "\n"
     ]
    }
   ],
   "source": [
    "from xgboost import XGBRegressor\n",
    "from sklearn.metrics import mean_absolute_error, r2_score, mean_squared_error\n",
    "from tqdm import tqdm\n",
    "import time\n",
    "import numpy as np\n",
    "\n",
    "# Tuning XGBoost\n",
    "param_grid = [\n",
    "    {\"n_estimators\": n, \"learning_rate\": lr, \"max_depth\": d}\n",
    "    for n in [100, 200]\n",
    "    for lr in [0.01, 0.05, 0.1]\n",
    "    for d in [4, 6, 8]\n",
    "]\n",
    "\n",
    "best_xgb_params, best_xgb_score = None, -float(\"inf\")\n",
    "best_xgb_mse = best_xgb_rmse = best_xgb_mae = best_xgb_r2 = best_xgb_adj_r2 = best_xgb_time = None\n",
    "\n",
    "with tqdm(total=len(param_grid), desc=\"Tuning XGBoost\") as pbar:\n",
    "    for params in param_grid:\n",
    "        start_time = time.time()\n",
    "        xgb_model = XGBRegressor(**params, random_state=42)\n",
    "        xgb_model.fit(X_train, y_train)\n",
    "        y_pred_xgb = xgb_model.predict(X_test)\n",
    "        end_time = time.time()\n",
    "\n",
    "        # Metrics\n",
    "        mse = mean_squared_error(y_test, y_pred_xgb)\n",
    "        rmse = np.sqrt(mse)\n",
    "        mae = mean_absolute_error(y_test, y_pred_xgb)\n",
    "        r2 = r2_score(y_test, y_pred_xgb)\n",
    "        elapsed = end_time - start_time\n",
    "\n",
    "        # Adjusted R²\n",
    "        n, p = len(y_test), X_test.shape[1]\n",
    "        adj_r2 = 1 - ((1 - r2) * (n - 1) / (n - p - 1)) if n > p + 1 else None\n",
    "\n",
    "        # Weighted Score (penalize RMSE, reward R²)\n",
    "        score = -rmse + (r2 * 100)\n",
    "\n",
    "        if score > best_xgb_score:\n",
    "            best_xgb_params = params\n",
    "            best_xgb_score = score\n",
    "            best_xgb_mse = mse\n",
    "            best_xgb_rmse = rmse\n",
    "            best_xgb_mae = mae\n",
    "            best_xgb_r2 = r2\n",
    "            best_xgb_adj_r2 = adj_r2\n",
    "            best_xgb_time = elapsed\n",
    "\n",
    "        pbar.update(1)\n",
    "\n",
    "# Print\n",
    "print(f\"\\nBest XGBoost Params: {best_xgb_params}, Best Score: {best_xgb_score:.4f}, \"\n",
    "      f\"Best MSE: {best_xgb_mse:.4f}, Best RMSE: {best_xgb_rmse:.4f}, Best MAE: {best_xgb_mae:.4f}, \"\n",
    "      f\"Best R²: {best_xgb_r2:.4f}, \"\n",
    "      f\"{f'Best Adjusted R²: {best_xgb_adj_r2:.4f}' if best_xgb_adj_r2 is not None else 'Best Adjusted R²: N/A'}, \"\n",
    "      f\"XGBoost Training Time: {best_xgb_time:.4f}s\")\n"
   ]
  },
  {
   "cell_type": "markdown",
   "id": "386b5b31-0244-47c2-bff5-4e23b76f0321",
   "metadata": {},
   "source": [
    "# CatBoost"
   ]
  },
  {
   "cell_type": "code",
   "execution_count": 45,
   "id": "87f8a9ed-1275-49cf-80c4-f8c0fa8d23ed",
   "metadata": {},
   "outputs": [
    {
     "name": "stderr",
     "output_type": "stream",
     "text": [
      "Tuning CatBoost: 100%|██████████████████████████| 36/36 [00:07<00:00,  5.09it/s]"
     ]
    },
    {
     "name": "stdout",
     "output_type": "stream",
     "text": [
      "\n",
      "Best CatBoost Params: {'iterations': 1000, 'learning_rate': 0.05, 'depth': 4, 'l2_leaf_reg': 7}, Best Score: -213.2137, Best MSE: 94122.5616, Best RMSE: 306.7940, Best MAE: 177.0382, Best R²: 0.9358, Best Adjusted R²: 0.9351, CatBoost Training Time: 0.1860s\n"
     ]
    },
    {
     "name": "stderr",
     "output_type": "stream",
     "text": [
      "\n"
     ]
    }
   ],
   "source": [
    "from catboost import CatBoostRegressor\n",
    "from sklearn.metrics import mean_absolute_error, r2_score, mean_squared_error\n",
    "from tqdm import tqdm\n",
    "import time\n",
    "import numpy as np\n",
    "\n",
    "# Tuning CatBoost\n",
    "param_grid = [\n",
    "    {\"iterations\": i, \"learning_rate\": lr, \"depth\": d, \"l2_leaf_reg\": reg}\n",
    "    for i in [500, 1000]\n",
    "    for lr in [0.01, 0.05, 0.1]\n",
    "    for d in [4, 6]\n",
    "    for reg in [3, 5, 7]\n",
    "]\n",
    "\n",
    "best_cat_params, best_cat_score = None, -float(\"inf\")\n",
    "best_cat_mse = best_cat_rmse = best_cat_mae = best_cat_r2 = best_cat_adj_r2 = best_cat_time = None\n",
    "\n",
    "with tqdm(total=len(param_grid), desc=\"Tuning CatBoost\") as pbar:\n",
    "    for params in param_grid:\n",
    "        start_time = time.time()\n",
    "        cat_model = CatBoostRegressor(verbose=0, random_state=42, **params)\n",
    "        cat_model.fit(X_train, y_train)\n",
    "        y_pred_cat = cat_model.predict(X_test)\n",
    "        end_time = time.time()\n",
    "\n",
    "        # Metrics\n",
    "        mse = mean_squared_error(y_test, y_pred_cat)\n",
    "        rmse = np.sqrt(mse)\n",
    "        mae = mean_absolute_error(y_test, y_pred_cat)\n",
    "        r2 = r2_score(y_test, y_pred_cat)\n",
    "        elapsed = end_time - start_time\n",
    "\n",
    "        # Adjusted R²\n",
    "        n, p = len(y_test), X_test.shape[1]\n",
    "        adj_r2 = 1 - ((1 - r2) * (n - 1) / (n - p - 1)) if n > p + 1 else None\n",
    "\n",
    "        # Weighted Score (penalize RMSE, reward R²)\n",
    "        score = -rmse + (r2 * 100)\n",
    "\n",
    "        if score > best_cat_score:\n",
    "            best_cat_params = params\n",
    "            best_cat_score = score\n",
    "            best_cat_mse = mse\n",
    "            best_cat_rmse = rmse\n",
    "            best_cat_mae = mae\n",
    "            best_cat_r2 = r2\n",
    "            best_cat_adj_r2 = adj_r2\n",
    "            best_cat_time = elapsed\n",
    "\n",
    "        pbar.update(1)\n",
    "\n",
    "# Print\n",
    "print(f\"\\nBest CatBoost Params: {best_cat_params}, Best Score: {best_cat_score:.4f}, \"\n",
    "      f\"Best MSE: {best_cat_mse:.4f}, Best RMSE: {best_cat_rmse:.4f}, Best MAE: {best_cat_mae:.4f}, \"\n",
    "      f\"Best R²: {best_cat_r2:.4f}, \"\n",
    "      f\"{f'Best Adjusted R²: {best_cat_adj_r2:.4f}' if best_cat_adj_r2 is not None else 'Best Adjusted R²: N/A'}, \"\n",
    "      f\"CatBoost Training Time: {best_cat_time:.4f}s\")\n"
   ]
  },
  {
   "cell_type": "markdown",
   "id": "7ca19a6c-3a0d-4e6d-9bca-395002301f7c",
   "metadata": {},
   "source": [
    "# Neural Network"
   ]
  },
  {
   "cell_type": "code",
   "execution_count": 53,
   "id": "76b8a79e-66ab-4272-b645-39915b621f64",
   "metadata": {},
   "outputs": [
    {
     "name": "stderr",
     "output_type": "stream",
     "text": [
      "Tuning Neural Network: 100%|██████████████████████| 3/3 [00:07<00:00,  2.63s/it]"
     ]
    },
    {
     "name": "stdout",
     "output_type": "stream",
     "text": [
      "\n",
      "Best Neural Network Params: {'layers': [128, 64, 32], 'epochs': 150, 'batch_size': 32}, Best Score: -428.7960, Best MSE: 261107.5314, Best RMSE: 510.9868, Best MAE: 346.9311, Best R²: 0.8219, Best Adjusted R²: 0.8199, Neural Net Training Time: 2.7847s\n"
     ]
    },
    {
     "name": "stderr",
     "output_type": "stream",
     "text": [
      "\n"
     ]
    }
   ],
   "source": [
    "from tensorflow.keras.models import Sequential\n",
    "from tensorflow.keras.layers import Dense, Input\n",
    "from tensorflow.keras.optimizers import Adam\n",
    "from scikeras.wrappers import KerasRegressor\n",
    "from sklearn.metrics import mean_squared_error, mean_absolute_error, r2_score\n",
    "from tqdm import tqdm\n",
    "import time\n",
    "import numpy as np\n",
    "\n",
    "# Define grid\n",
    "param_grid = [\n",
    "    {\"layers\": [64, 32], \"epochs\": 100, \"batch_size\": 16},\n",
    "    {\"layers\": [128, 64], \"epochs\": 100, \"batch_size\": 16},\n",
    "    {\"layers\": [128, 64, 32], \"epochs\": 150, \"batch_size\": 32},\n",
    "]\n",
    "\n",
    "# Best tracking variables\n",
    "best_nn_params, best_nn_score = None, -float(\"inf\")\n",
    "best_nn_mse = best_nn_rmse = best_nn_mae = best_nn_r2 = best_nn_adj_r2 = best_nn_time = None\n",
    "\n",
    "# Tuning loop\n",
    "with tqdm(total=len(param_grid), desc=\"Tuning Neural Network\") as pbar:\n",
    "    for params in param_grid:\n",
    "\n",
    "        def create_nn():\n",
    "            model = Sequential()\n",
    "            model.add(Input(shape=(X_train.shape[1],)))\n",
    "            for units in params[\"layers\"]:\n",
    "                model.add(Dense(units, activation='relu'))\n",
    "            model.add(Dense(1))\n",
    "            model.compile(optimizer=Adam(), loss='mse')\n",
    "            return model\n",
    "\n",
    "        start_time = time.time()\n",
    "        nn_model = KerasRegressor(model=create_nn, epochs=params[\"epochs\"], batch_size=params[\"batch_size\"], verbose=0)\n",
    "        nn_model.fit(X_train, y_train)\n",
    "        y_pred_nn = nn_model.predict(X_test)\n",
    "        end_time = time.time()\n",
    "\n",
    "        nn_mse = mean_squared_error(y_test, y_pred_nn)\n",
    "        nn_rmse = np.sqrt(nn_mse)\n",
    "        nn_mae = mean_absolute_error(y_test, y_pred_nn)\n",
    "        nn_r2 = r2_score(y_test, y_pred_nn)\n",
    "        n = len(y_test)\n",
    "        p = X_test.shape[1]\n",
    "        nn_adj_r2 = 1 - ((1 - nn_r2) * (n - 1) / (n - p - 1)) if n > p + 1 else None\n",
    "        nn_time = end_time - start_time\n",
    "\n",
    "        # Weighted score: reward high R², penalize RMSE\n",
    "        nn_score = -nn_rmse + (nn_r2 * 100)\n",
    "\n",
    "        if nn_score > best_nn_score:\n",
    "            best_nn_params = params\n",
    "            best_nn_score = nn_score\n",
    "            best_nn_mse = nn_mse\n",
    "            best_nn_rmse = nn_rmse\n",
    "            best_nn_mae = nn_mae\n",
    "            best_nn_r2 = nn_r2\n",
    "            best_nn_adj_r2 = nn_adj_r2\n",
    "            best_nn_time = nn_time\n",
    "\n",
    "        pbar.update(1)\n",
    "\n",
    "# Output\n",
    "print(f\"\\nBest Neural Network Params: {best_nn_params}, Best Score: {best_nn_score:.4f}, Best MSE: {best_nn_mse:.4f}, \"\n",
    "      f\"Best RMSE: {best_nn_rmse:.4f}, Best MAE: {best_nn_mae:.4f}, Best R²: {best_nn_r2:.4f}, \"\n",
    "      f\"{f'Best Adjusted R²: {best_nn_adj_r2:.4f}' if best_nn_adj_r2 is not None else 'Best Adjusted R²: N/A'}, \"\n",
    "      f\"Neural Net Training Time: {best_nn_time:.4f}s\")\n"
   ]
  },
  {
   "cell_type": "markdown",
   "id": "a10a4ad7-5a85-4a9e-b0d6-36afb3e3f5d5",
   "metadata": {},
   "source": [
    "# Stacking Ensemble"
   ]
  },
  {
   "cell_type": "code",
   "execution_count": 57,
   "id": "a532b046-c5f5-4e4d-b250-1e15e734cc44",
   "metadata": {},
   "outputs": [
    {
     "name": "stdout",
     "output_type": "stream",
     "text": [
      "\n",
      "Best Stacked Ensemble Score: -219.2226, Best MSE: 97693.3175, Best RMSE: 312.5593, Best MAE: 175.4777, Best R²: 0.9334, Best Adjusted R²: 0.9326, Stacked Training Time: 0.7827s\n"
     ]
    }
   ],
   "source": [
    "from sklearn.ensemble import StackingRegressor\n",
    "from sklearn.linear_model import Ridge, Lasso, LinearRegression\n",
    "from sklearn.tree import DecisionTreeRegressor\n",
    "from sklearn.neighbors import KNeighborsRegressor\n",
    "from xgboost import XGBRegressor\n",
    "from catboost import CatBoostRegressor\n",
    "from sklearn.svm import SVR\n",
    "import time\n",
    "from sklearn.metrics import mean_squared_error, mean_absolute_error, r2_score\n",
    "import numpy as np\n",
    "\n",
    "# Define base learners with default/approximate params\n",
    "base_estimators = [\n",
    "    ('lr', LinearRegression()),\n",
    "    ('ridge', Ridge()),\n",
    "    ('lasso', Lasso()),\n",
    "    ('dt', DecisionTreeRegressor(max_depth=10)),\n",
    "    ('knn', KNeighborsRegressor(n_neighbors=5)),\n",
    "    ('svr', SVR()),\n",
    "    ('xgb', XGBRegressor(n_estimators=100, learning_rate=0.1, max_depth=4, random_state=42))\n",
    "]\n",
    "\n",
    "# Define final estimator\n",
    "final_estimator = CatBoostRegressor(verbose=0, random_state=42)\n",
    "\n",
    "# Create the stacking model\n",
    "stack = StackingRegressor(\n",
    "    estimators=base_estimators,\n",
    "    final_estimator=final_estimator,\n",
    "    passthrough=True\n",
    ")\n",
    "\n",
    "# Fit and evaluate\n",
    "start_time = time.time()\n",
    "stack.fit(X_train, y_train)\n",
    "stack_preds = stack.predict(X_test)\n",
    "end_time = time.time()\n",
    "\n",
    "# Calculate metrics\n",
    "stack_mse = mean_squared_error(y_test, stack_preds)\n",
    "stack_rmse = np.sqrt(stack_mse)\n",
    "stack_mae = mean_absolute_error(y_test, stack_preds)\n",
    "stack_r2 = r2_score(y_test, stack_preds)\n",
    "n, p = len(y_test), X_test.shape[1]\n",
    "stack_adj_r2 = 1 - ((1 - stack_r2) * (n - 1) / (n - p - 1))\n",
    "stack_score = -stack_rmse + (stack_r2 * 100)\n",
    "stack_time = end_time - start_time\n",
    "\n",
    "# Print results\n",
    "print(f\"\\nBest Stacked Ensemble Score: {stack_score:.4f}, Best MSE: {stack_mse:.4f}, \"\n",
    "      f\"Best RMSE: {stack_rmse:.4f}, Best MAE: {stack_mae:.4f}, Best R²: {stack_r2:.4f}, \"\n",
    "      f\"Best Adjusted R²: {stack_adj_r2:.4f}, Stacked Training Time: {stack_time:.4f}s\")\n"
   ]
  },
  {
   "cell_type": "code",
   "execution_count": null,
   "id": "91283882-29eb-406a-8bbc-43a178d45f22",
   "metadata": {},
   "outputs": [],
   "source": []
  },
  {
   "cell_type": "code",
   "execution_count": null,
   "id": "9e86670c-3e46-44a0-85aa-3c15c2d3d2b7",
   "metadata": {},
   "outputs": [],
   "source": []
  }
 ],
 "metadata": {
  "kernelspec": {
   "display_name": "Python 3 (ipykernel)",
   "language": "python",
   "name": "python3"
  },
  "language_info": {
   "codemirror_mode": {
    "name": "ipython",
    "version": 3
   },
   "file_extension": ".py",
   "mimetype": "text/x-python",
   "name": "python",
   "nbconvert_exporter": "python",
   "pygments_lexer": "ipython3",
   "version": "3.12.4"
  }
 },
 "nbformat": 4,
 "nbformat_minor": 5
}
